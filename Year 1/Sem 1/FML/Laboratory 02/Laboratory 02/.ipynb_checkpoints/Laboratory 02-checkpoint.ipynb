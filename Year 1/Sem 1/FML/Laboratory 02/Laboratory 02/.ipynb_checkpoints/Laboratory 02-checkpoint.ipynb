{
  "cells": [
    {
      "cell_type": "markdown",
      "metadata": {
        "id": "8HEB_GNPLiL7"
      },
      "source": [
        "# Programming Exercise 2: Logistic Regression\n",
        "\n",
        "## Introduction\n",
        "\n",
        "In this exercise, you will implement logistic regression and apply it to two different datasets. Before starting on the programming exercise, we strongly recommend reading the lectures for the associated topics.\n",
        "\n",
        "All the information you need for solving this assignment is in this notebook, and all the code you will be implementing will take place within this notebook.\n",
        "\n",
        "Before we begin with the exercises, we need to import all libraries required for this programming exercise. Throughout the course, we will be using [`numpy`](http://www.numpy.org/) for all arrays and matrix operations, and [`matplotlib`](https://matplotlib.org/) for plotting. In this assignment, we will also use [`scipy`](https://docs.scipy.org/doc/scipy/reference/), which contains scientific and numerical computation functions and tools."
      ]
    },
    {
      "cell_type": "code",
      "execution_count": null,
      "metadata": {
        "id": "3tCGj-asLiL9"
      },
      "outputs": [],
      "source": [
        "# used for manipulating directory paths\n",
        "import os\n",
        "\n",
        "# Scientific and vector computation for python\n",
        "import numpy as np\n",
        "\n",
        "# Plotting library\n",
        "from matplotlib import pyplot\n",
        "\n",
        "# Optimization module in scipy\n",
        "from scipy import optimize\n",
        "\n",
        "# tells matplotlib to embed plots within the notebook\n",
        "%matplotlib inline"
      ]
    },
    {
      "cell_type": "code",
      "source": [
        "# If you are using Google Colab\n",
        "from google.colab import drive\n",
        "drive.mount('/content/drive/')\n",
        "%cd '/content/drive/My Drive/FML/Laboratory 02/'"
      ],
      "metadata": {
        "id": "myUqljKqLncK"
      },
      "execution_count": null,
      "outputs": []
    },
    {
      "cell_type": "markdown",
      "metadata": {
        "id": "00t7KvIWLiL-"
      },
      "source": [
        "## Grading\n",
        "\n",
        "\n",
        "The following is a breakdown of how each part of this exercise is scored.\n",
        "\n",
        "\n",
        "| Section | Part                                 | Function   | Points\n",
        "| :-      |:-                                    | :-                    | :-:\n",
        "| 1       | [Sigmoid Function](#section1)                   | [`sigmoid`](#sigmoid) | 5      \n",
        "| 2       | [Compute cost for logistic regression](#section2) | [`costFunction`](#costFunction) | 30     \n",
        "| 3       | [Gradient for logistic regression](#section2)     | [`costFunction`](#costFunction) | 30     \n",
        "| 4       | [Predict Function](#section4)                     | [`predict`](#predict) | 5      \n",
        "| 5       | [Compute cost for regularized LR](#section5)      | [`costFunctionReg`](#costFunctionReg) | 15     \n",
        "| 6       | [Gradient for regularized LR](#section5)          | [`costFunctionReg`](#costFunctionReg) | 15     \n",
        "|         | Total Points                         | | 100    \n",
        "\n",
        "\n"
      ]
    },
    {
      "cell_type": "markdown",
      "metadata": {
        "id": "864E0VilLiL-"
      },
      "source": [
        "## 1 Logistic Regression\n",
        "\n",
        "In this part of the exercise, you will build a logistic regression model to predict whether a student gets admitted into a university. Suppose that you are the administrator of a university department and\n",
        "you want to determine each applicant’s chance of admission based on their results on two exams. You have historical data from previous applicants that you can use as a training set for logistic regression. For each training example, you have the applicant’s scores on two exams and the admissions\n",
        "decision. Your task is to build a classification model that estimates an applicant’s probability of admission based the scores from those two exams.\n",
        "\n",
        "The following cell will load the data and corresponding labels:"
      ]
    },
    {
      "cell_type": "code",
      "execution_count": null,
      "metadata": {
        "id": "pWSWxaDJLiL_"
      },
      "outputs": [],
      "source": [
        "# Load data\n",
        "# The first two columns contains the exam scores and the third column\n",
        "# contains the label.\n",
        "data = np.loadtxt(os.path.join('Data', 'ex2data1.txt'), delimiter=',')\n",
        "X, y = data[:, 0:2], data[:, 2]"
      ]
    },
    {
      "cell_type": "markdown",
      "metadata": {
        "id": "9xTTLQJfLiL_"
      },
      "source": [
        "### 1.1 Visualizing the data\n",
        "\n",
        "Before starting to implement any learning algorithm, it is always good to visualize the data if possible. We  display the data on a 2-dimensional plot by calling the function `plotData`. You will now complete the code in `plotData` so that it displays a figure where the axes are the two exam scores, and the positive and negative examples are shown with different markers.\n",
        "\n",
        "To help you get more familiar with plotting, we have left `plotData` empty so you can try to implement it yourself. However, this is an optional (ungraded) exercise. We also provide our implementation below so you can\n",
        "copy it or refer to it. If you choose to copy our example, make sure you learn\n",
        "what each of its commands is doing by consulting the `matplotlib` and `numpy` documentation.\n",
        "\n",
        "```python\n",
        "# Find Indices of Positive and Negative Examples\n",
        "pos = y == 1\n",
        "neg = y == 0\n",
        "\n",
        "# Plot Examples\n",
        "pyplot.plot(X[pos, 0], X[pos, 1], 'k*', lw=2, ms=10)\n",
        "pyplot.plot(X[neg, 0], X[neg, 1], 'ko', mfc='y', ms=8, mec='k', mew=1)\n",
        "```"
      ]
    },
    {
      "cell_type": "code",
      "execution_count": null,
      "metadata": {
        "id": "zT-fWptALiL_"
      },
      "outputs": [],
      "source": [
        "def plotData(X, y):\n",
        "    \"\"\"\n",
        "    Plots the data points X and y into a new figure. Plots the data\n",
        "    points with * for the positive examples and o for the negative examples.\n",
        "\n",
        "    Parameters\n",
        "    ----------\n",
        "    X : array_like\n",
        "        An Mx2 matrix representing the dataset.\n",
        "\n",
        "    y : array_like\n",
        "        Label values for the dataset. A vector of size (M, ).\n",
        "\n",
        "    Instructions\n",
        "    ------------\n",
        "    Plot the positive and negative examples on a 2D plot, using the\n",
        "    option 'k*' for the positive examples and 'ko' for the negative examples.\n",
        "    \"\"\"\n",
        "    # Create New Figure\n",
        "    fig = pyplot.figure()\n",
        "\n",
        "    # ====================== YOUR CODE HERE ======================\n",
        "\n",
        "\n",
        "    # ============================================================"
      ]
    },
    {
      "cell_type": "markdown",
      "metadata": {
        "id": "g9wGqyBbLiL_"
      },
      "source": [
        "Now, we call the implemented function to display the loaded data:"
      ]
    },
    {
      "cell_type": "code",
      "execution_count": null,
      "metadata": {
        "id": "VyxUmxhoLiMA"
      },
      "outputs": [],
      "source": [
        "plotData(X, y)\n",
        "# add axes labels\n",
        "pyplot.xlabel('Exam 1 score')\n",
        "pyplot.ylabel('Exam 2 score')\n",
        "pyplot.legend(['Admitted', 'Not admitted'])\n",
        "pass"
      ]
    },
    {
      "cell_type": "markdown",
      "metadata": {
        "id": "7BHP5RS0LiMA"
      },
      "source": [
        "<a id=\"section1\"></a>\n",
        "### 1.2 Implementation\n",
        "\n",
        "#### 1.2.1 Warmup exercise: sigmoid function\n",
        "\n",
        "Before you start with the actual cost function, recall that the logistic regression hypothesis is defined as:\n",
        "\n",
        "$$ h_\\theta(x) = g(\\theta^T x)$$\n",
        "\n",
        "where function $g$ is the sigmoid function. The sigmoid function is defined as:\n",
        "\n",
        "$$g(z) = \\frac{1}{1+e^{-z}}$$.\n",
        "\n",
        "Your first step is to implement this function `sigmoid` so it can be\n",
        "called by the rest of your program. When you are finished, try testing a few\n",
        "values by calling `sigmoid(x)` in a new cell. For large positive values of `x`, the sigmoid should be close to 1, while for large negative values, the sigmoid should be close to 0. Evaluating `sigmoid(0)` should give you exactly 0.5. Your code should also work with vectors and matrices. **For a matrix, your function should perform the sigmoid function on every element.**\n",
        "<a id=\"sigmoid\"></a>"
      ]
    },
    {
      "cell_type": "code",
      "execution_count": null,
      "metadata": {
        "id": "81WLrjI4LiMA"
      },
      "outputs": [],
      "source": [
        "def sigmoid(z):\n",
        "    \"\"\"\n",
        "    Compute sigmoid function given the input z.\n",
        "\n",
        "    Parameters\n",
        "    ----------\n",
        "    z : array_like\n",
        "        The input to the sigmoid function. This can be a 1-D vector\n",
        "        or a 2-D matrix.\n",
        "\n",
        "    Returns\n",
        "    -------\n",
        "    g : array_like\n",
        "        The computed sigmoid function. g has the same shape as z, since\n",
        "        the sigmoid is computed element-wise on z.\n",
        "\n",
        "    Instructions\n",
        "    ------------\n",
        "    Compute the sigmoid of each value of z (z can be a matrix, vector or scalar).\n",
        "    \"\"\"\n",
        "    # convert input to a numpy array\n",
        "    z = np.array(z)\n",
        "\n",
        "    # You need to return the following variables correctly\n",
        "    g = np.zeros(z.shape)\n",
        "\n",
        "    # ====================== YOUR CODE HERE ======================\n",
        "\n",
        "\n",
        "\n",
        "    # =============================================================\n",
        "    return g"
      ]
    },
    {
      "cell_type": "markdown",
      "metadata": {
        "id": "kCTE5TJ_LiMA"
      },
      "source": [
        "The following cell evaluates the sigmoid function at `z=0`. You should get a value of 0.5. You can also try different values for `z` to experiment with the sigmoid function."
      ]
    },
    {
      "cell_type": "code",
      "execution_count": null,
      "metadata": {
        "id": "42QLUzvoLiMA"
      },
      "outputs": [],
      "source": [
        "# Test the implementation of sigmoid function here\n",
        "z = 0\n",
        "g = sigmoid(z)\n",
        "\n",
        "print('g(', z, ') = ', g)"
      ]
    },
    {
      "cell_type": "markdown",
      "metadata": {
        "id": "ysYOD1x3LiMA"
      },
      "source": [
        "<a id=\"section2\"></a>\n",
        "#### 1.2.2 Cost function and gradient\n",
        "\n",
        "Now you will implement the cost function and gradient for logistic regression. Before proceeding we add the intercept term to X."
      ]
    },
    {
      "cell_type": "code",
      "execution_count": null,
      "metadata": {
        "id": "kGuj4VboLiMA"
      },
      "outputs": [],
      "source": [
        "# Setup the data matrix appropriately, and add ones for the intercept term\n",
        "m, n = X.shape\n",
        "\n",
        "# Add intercept term to X\n",
        "X = np.concatenate([np.ones((m, 1)), X], axis=1)"
      ]
    },
    {
      "cell_type": "markdown",
      "metadata": {
        "id": "KQp_IvC9LiMB"
      },
      "source": [
        "Now, complete the code for the function `costFunction` to return the cost and gradient. Recall that the cost function in logistic regression is\n",
        "\n",
        "$$ J(\\theta) = \\frac{1}{m} \\sum_{i=1}^{m} \\left[ -y^{(i)} \\log\\left(h_\\theta\\left( x^{(i)} \\right) \\right) - \\left( 1 - y^{(i)}\\right) \\log \\left( 1 - h_\\theta\\left( x^{(i)} \\right) \\right) \\right]$$\n",
        "\n",
        "and the gradient of the cost is a vector of the same length as $\\theta$ where the $j^{th}$\n",
        "element (for $j = 0, 1, \\cdots , n$) is defined as follows:\n",
        "\n",
        "$$ \\frac{\\partial J(\\theta)}{\\partial \\theta_j} = \\frac{1}{m} \\sum_{i=1}^m \\left( h_\\theta \\left( x^{(i)} \\right) - y^{(i)} \\right) x_j^{(i)} $$\n",
        "\n",
        "Note that while this gradient looks identical to the linear regression gradient, the formula is actually different because linear and logistic regression have different definitions of $h_\\theta(x)$.\n",
        "<a id=\"costFunction\"></a>"
      ]
    },
    {
      "cell_type": "code",
      "execution_count": null,
      "metadata": {
        "id": "mlT_8rvaLiMB"
      },
      "outputs": [],
      "source": [
        "def costFunction(theta, X, y):\n",
        "    \"\"\"\n",
        "    Compute cost and gradient for logistic regression.\n",
        "\n",
        "    Parameters\n",
        "    ----------\n",
        "    theta : array_like\n",
        "        The parameters for logistic regression. This a vector\n",
        "        of shape (n+1, ).\n",
        "\n",
        "    X : array_like\n",
        "        The input dataset of shape (m x n+1) where m is the total number\n",
        "        of data points and n is the number of features. We assume the\n",
        "        intercept has already been added to the input.\n",
        "\n",
        "    y : arra_like\n",
        "        Labels for the input. This is a vector of shape (m, ).\n",
        "\n",
        "    Returns\n",
        "    -------\n",
        "    J : float\n",
        "        The computed value for the cost function.\n",
        "\n",
        "    grad : array_like\n",
        "        A vector of shape (n+1, ) which is the gradient of the cost\n",
        "        function with respect to theta, at the current values of theta.\n",
        "\n",
        "    Instructions\n",
        "    ------------\n",
        "    Compute the cost of a particular choice of theta. You should set J to\n",
        "    the cost. Compute the partial derivatives and set grad to the partial\n",
        "    derivatives of the cost w.r.t. each parameter in theta.\n",
        "    \"\"\"\n",
        "    # Initialize some useful values\n",
        "    m = y.size  # number of training examples\n",
        "\n",
        "    # You need to return the following variables correctly\n",
        "    J = 0\n",
        "    grad = np.zeros(theta.shape)\n",
        "\n",
        "    # ====================== YOUR CODE HERE ======================\n",
        "\n",
        "\n",
        "    # =============================================================\n",
        "    return J, grad"
      ]
    },
    {
      "cell_type": "markdown",
      "metadata": {
        "id": "Vt_ORLJJLiMB"
      },
      "source": [
        "Once you are done call your `costFunction` using two test cases for  $\\theta$ by executing the next cell."
      ]
    },
    {
      "cell_type": "code",
      "execution_count": null,
      "metadata": {
        "id": "bQCIoACvLiMB"
      },
      "outputs": [],
      "source": [
        "# Initialize fitting parameters\n",
        "initial_theta = np.zeros(n+1)\n",
        "\n",
        "cost, grad = costFunction(initial_theta, X, y)\n",
        "\n",
        "print('Cost at initial theta (zeros): {:.3f}'.format(cost))\n",
        "print('Expected cost (approx): 0.693\\n')\n",
        "\n",
        "print('Gradient at initial theta (zeros):')\n",
        "print('\\t[{:.4f}, {:.4f}, {:.4f}]'.format(*grad))\n",
        "print('Expected gradients (approx):\\n\\t[-0.1000, -12.0092, -11.2628]\\n')\n",
        "\n",
        "# Compute and display cost and gradient with non-zero theta\n",
        "test_theta = np.array([-24, 0.2, 0.2])\n",
        "cost, grad = costFunction(test_theta, X, y)\n",
        "\n",
        "print('Cost at test theta: {:.3f}'.format(cost))\n",
        "print('Expected cost (approx): 0.218\\n')\n",
        "\n",
        "print('Gradient at test theta:')\n",
        "print('\\t[{:.3f}, {:.3f}, {:.3f}]'.format(*grad))\n",
        "print('Expected gradients (approx):\\n\\t[0.043, 2.566, 2.647]')"
      ]
    },
    {
      "cell_type": "markdown",
      "metadata": {
        "id": "XmEOX_jpLiMB"
      },
      "source": [
        "#### 1.2.3 Learning parameters using `scipy.optimize`\n",
        "\n",
        "In the previous assignment, you found the optimal parameters of a linear regression model by implementing gradient descent. You wrote a cost function and calculated its gradient, then took a gradient descent step accordingly. This time, instead of taking gradient descent steps, you will use the [`scipy.optimize` module](https://docs.scipy.org/doc/scipy/reference/optimize.html). SciPy is a numerical computing library for `python`. It provides an optimization module for root finding and minimization. As of `scipy 1.0`, the function `scipy.optimize.minimize` is the method to use for optimization problems(both constrained and unconstrained).\n",
        "\n",
        "For logistic regression, you want to optimize the cost function $J(\\theta)$ with parameters $\\theta$.\n",
        "Concretely, you are going to use `optimize.minimize` to find the best parameters $\\theta$ for the logistic regression cost function, given a fixed dataset (of X and y values). You will pass to `optimize.minimize` the following inputs:\n",
        "- `costFunction`: A cost function that, when given the training set and a particular $\\theta$, computes the logistic regression cost and gradient with respect to $\\theta$ for the dataset (X, y). It is important to note that we only pass the name of the function without the parenthesis. This indicates that we are only providing a reference to this function, and not evaluating the result from this function.\n",
        "- `initial_theta`: The initial values of the parameters we are trying to optimize.\n",
        "- `(X, y)`: These are additional arguments to the cost function.\n",
        "- `jac`: Indication if the cost function returns the Jacobian (gradient) along with cost value. (True)\n",
        "- `method`: Optimization method/algorithm to use\n",
        "- `options`: Additional options which might be specific to the specific optimization method. In the following, we only tell the algorithm the maximum number of iterations before it terminates.\n",
        "\n",
        "If you have completed the `costFunction` correctly, `optimize.minimize` will converge on the right optimization parameters and return the final values of the cost and $\\theta$ in a class object. Notice that by using `optimize.minimize`, you did not have to write any loops yourself, or set a learning rate like you did for gradient descent. This is all done by `optimize.minimize`: you only needed to provide a function calculating the cost and the gradient.\n",
        "\n",
        "In the following, we already have code written to call `optimize.minimize` with the correct arguments."
      ]
    },
    {
      "cell_type": "code",
      "execution_count": null,
      "metadata": {
        "id": "KZGaGI2pLiMB"
      },
      "outputs": [],
      "source": [
        "# set options for optimize.minimize\n",
        "options= {'maxfun': 400}\n",
        "\n",
        "# see documention for scipy's optimize.minimize  for description about\n",
        "# the different parameters\n",
        "# The function returns an object `OptimizeResult`\n",
        "# We use truncated Newton algorithm for optimization which is\n",
        "# equivalent to MATLAB's fminunc\n",
        "# See https://stackoverflow.com/questions/18801002/fminunc-alternate-in-numpy\n",
        "res = optimize.minimize(costFunction,\n",
        "                        initial_theta,\n",
        "                        (X, y),\n",
        "                        jac=True,\n",
        "                        method='TNC',\n",
        "                        options=options)\n",
        "\n",
        "# the fun property of `OptimizeResult` object returns\n",
        "# the value of costFunction at optimized theta\n",
        "cost = res.fun\n",
        "\n",
        "# the optimized theta is in the x property\n",
        "theta = res.x\n",
        "\n",
        "# Print theta to screen\n",
        "print('Cost at theta found by optimize.minimize: {:.3f}'.format(cost))\n",
        "print('Expected cost (approx): 0.203\\n');\n",
        "\n",
        "print('theta:')\n",
        "print('\\t[{:.3f}, {:.3f}, {:.3f}]'.format(*theta))\n",
        "print('Expected theta (approx):\\n\\t[-25.161, 0.206, 0.201]')"
      ]
    },
    {
      "cell_type": "markdown",
      "metadata": {
        "id": "Dx7GeT_7LiMB"
      },
      "source": [
        "Once `optimize.minimize` completes, we want to use the final value for $\\theta$ to visualize the decision boundary on the training data as shown in the figure below.\n",
        "\n",
        "![decision_boundary1.png](data:image/png;base64,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)\n",
        "\n",
        "To do so, we have written a function `plotDecisionBoundary` for plotting the decision boundary on top of training data. You do not need to write any code for plotting the decision boundary, but we also encourage you to look at the code in `plotDecisionBoundary` to see how to plot such a boundary using the $\\theta$ values."
      ]
    },
    {
      "cell_type": "code",
      "execution_count": null,
      "metadata": {
        "id": "ABjAzrLSLiMC"
      },
      "outputs": [],
      "source": [
        "def plotDecisionBoundary(plotData, theta, X, y):\n",
        "    \"\"\"\n",
        "    Plots the data points X and y into a new figure with the decision boundary defined by theta.\n",
        "    Plots the data points with * for the positive examples and o for  the negative examples.\n",
        "\n",
        "    Parameters\n",
        "    ----------\n",
        "    plotData : func\n",
        "        A function reference for plotting the X, y data.\n",
        "\n",
        "    theta : array_like\n",
        "        Parameters for logistic regression. A vector of shape (n+1, ).\n",
        "\n",
        "    X : array_like\n",
        "        The input dataset. X is assumed to be  a either:\n",
        "            1) Mx3 matrix, where the first column is an all ones column for the intercept.\n",
        "            2) MxN, N>3 matrix, where the first column is all ones.\n",
        "\n",
        "    y : array_like\n",
        "        Vector of data labels of shape (m, ).\n",
        "    \"\"\"\n",
        "    # make sure theta is a numpy array\n",
        "    theta = np.array(theta)\n",
        "\n",
        "    # Plot Data (remember first column in X is the intercept)\n",
        "    plotData(X[:, 1:3], y)\n",
        "\n",
        "    if X.shape[1] <= 3:\n",
        "        # Only need 2 points to define a line, so choose two endpoints\n",
        "        plot_x = np.array([np.min(X[:, 1]) - 2, np.max(X[:, 1]) + 2])\n",
        "\n",
        "        # Calculate the decision boundary line\n",
        "        plot_y = (-1. / theta[2]) * (theta[1] * plot_x + theta[0])\n",
        "\n",
        "        # Plot, and adjust axes for better viewing\n",
        "        pyplot.plot(plot_x, plot_y)\n",
        "\n",
        "        # Legend, specific for the exercise\n",
        "        pyplot.legend(['Admitted', 'Not admitted', 'Decision Boundary'])\n",
        "        pyplot.xlim([30, 100])\n",
        "        pyplot.ylim([30, 100])\n",
        "    else:\n",
        "        # Here is the grid range\n",
        "        u = np.linspace(-1, 1.5, 50)\n",
        "        v = np.linspace(-1, 1.5, 50)\n",
        "\n",
        "        z = np.zeros((u.size, v.size))\n",
        "        # Evaluate z = theta*x over the grid\n",
        "        for i, ui in enumerate(u):\n",
        "            for j, vj in enumerate(v):\n",
        "                z[i, j] = np.dot(mapFeature(np.array([ui]), np.array([vj])).flatten(), theta)\n",
        "\n",
        "        z = z.T  # important to transpose z before calling contour\n",
        "        # print(z)\n",
        "\n",
        "        # Plot z = 0\n",
        "        pyplot.contour(u, v, z, levels=[0], linewidths=2, colors='g')\n",
        "        pyplot.contourf(u, v, z, levels=[np.min(z), 0, np.max(z)], cmap='Greens', alpha=0.4)"
      ]
    },
    {
      "cell_type": "markdown",
      "metadata": {
        "id": "sQGpaBohLiMC"
      },
      "source": [
        "Let's plot the decision boundary for our data."
      ]
    },
    {
      "cell_type": "code",
      "execution_count": null,
      "metadata": {
        "id": "bT6hQr-qLiMC"
      },
      "outputs": [],
      "source": [
        "# Plot Boundary\n",
        "plotDecisionBoundary(plotData, theta, X, y)"
      ]
    },
    {
      "cell_type": "markdown",
      "metadata": {
        "id": "mmhuWAg2LiMC"
      },
      "source": [
        "<a id=\"section4\"></a>\n",
        "#### 1.2.4 Evaluating logistic regression\n",
        "\n",
        "After learning the parameters, you can use the model to predict whether a particular student will be admitted. For a student with an Exam 1 score of 45 and an Exam 2 score of 85, you should expect to see an admission\n",
        "probability of 0.776. Another way to evaluate the quality of the parameters we have found is to see how well the learned model predicts on our training set. In this part, your task is to complete the code in function `predict`. The predict function will produce “1” or “0” predictions given a dataset and a learned parameter vector $\\theta$.\n",
        "<a id=\"predict\"></a>"
      ]
    },
    {
      "cell_type": "code",
      "execution_count": null,
      "metadata": {
        "id": "JxY0IsJ3LiMC"
      },
      "outputs": [],
      "source": [
        "def predict(theta, X):\n",
        "    \"\"\"\n",
        "    Predict whether the label is 0 or 1 using learned logistic regression.\n",
        "    Computes the predictions for X using a threshold at 0.5\n",
        "    (i.e., if sigmoid(theta.T*x) >= 0.5, predict 1)\n",
        "\n",
        "    Parameters\n",
        "    ----------\n",
        "    theta : array_like\n",
        "        Parameters for logistic regression. A vecotor of shape (n+1, ).\n",
        "\n",
        "    X : array_like\n",
        "        The data to use for computing predictions. The rows is the number\n",
        "        of points to compute predictions, and columns is the number of\n",
        "        features.\n",
        "\n",
        "    Returns\n",
        "    -------\n",
        "    p : array_like\n",
        "        Predictions and 0 or 1 for each row in X.\n",
        "\n",
        "    Instructions\n",
        "    ------------\n",
        "    Complete the following code to make predictions using your learned\n",
        "    logistic regression parameters.You should set p to a vector of 0's and 1's\n",
        "    \"\"\"\n",
        "    m = X.shape[0] # Number of training examples\n",
        "\n",
        "    # You need to return the following variables correctly\n",
        "    p = np.zeros(m)\n",
        "\n",
        "    # ====================== YOUR CODE HERE ======================\n",
        "\n",
        "\n",
        "\n",
        "    # ============================================================\n",
        "    return p"
      ]
    },
    {
      "cell_type": "markdown",
      "metadata": {
        "id": "9q6l1j_-LiMC"
      },
      "source": [
        "After you have completed the code in `predict`, we proceed to report the training accuracy of your classifier by computing the percentage of examples it got correct."
      ]
    },
    {
      "cell_type": "code",
      "execution_count": null,
      "metadata": {
        "id": "KXQ2vlQYLiMC"
      },
      "outputs": [],
      "source": [
        "#  Predict probability for a student with score 45 on exam 1\n",
        "#  and score 85 on exam 2\n",
        "prob = sigmoid(np.dot([1, 45, 85], theta))\n",
        "print('For a student with scores 45 and 85,'\n",
        "      'we predict an admission probability of {:.3f}'.format(prob))\n",
        "print('Expected value: 0.775 +/- 0.002\\n')\n",
        "\n",
        "# Compute accuracy on our training set\n",
        "p = predict(theta, X)\n",
        "print('Train Accuracy: {:.2f} %'.format(np.mean(p == y) * 100))\n",
        "print('Expected accuracy (approx): 89.00 %')"
      ]
    },
    {
      "cell_type": "markdown",
      "metadata": {
        "id": "oV_54BquLiMC"
      },
      "source": [
        "## 2 Regularized logistic regression\n",
        "\n",
        "In this part of the exercise, you will implement regularized logistic regression to predict whether microchips from a fabrication plant passes quality assurance (QA). During QA, each microchip goes through various tests to ensure it is functioning correctly.\n",
        "Suppose you are the product manager of the factory and you have the test results for some microchips on two different tests. From these two tests, you would like to determine whether the microchips should be accepted or rejected. To help you make the decision, you have a dataset of test results on past microchips, from which you can build a logistic regression model.\n",
        "\n",
        "First, we load the data from a CSV file:"
      ]
    },
    {
      "cell_type": "code",
      "execution_count": null,
      "metadata": {
        "id": "5GbwituxLiMD"
      },
      "outputs": [],
      "source": [
        "# Load Data\n",
        "# The first two columns contains the X values and the third column\n",
        "# contains the label (y).\n",
        "data = np.loadtxt(os.path.join('Data', 'ex2data2.txt'), delimiter=',')\n",
        "X = data[:, :2]\n",
        "y = data[:, 2]"
      ]
    },
    {
      "cell_type": "markdown",
      "metadata": {
        "id": "u4BKlU5lLiMD"
      },
      "source": [
        "### 2.1 Visualize the data\n",
        "\n",
        "Similar to the previous parts of this exercise, `plotData` is used to generate a figure, where the axes are the two test scores, and the positive (y = 1, accepted) and negative (y = 0, rejected) examples are shown with\n",
        "different markers."
      ]
    },
    {
      "cell_type": "code",
      "execution_count": null,
      "metadata": {
        "id": "lGdgqYZbLiMD"
      },
      "outputs": [],
      "source": [
        "plotData(X, y)\n",
        "# Labels and Legend\n",
        "pyplot.xlabel('Microchip Test 1')\n",
        "pyplot.ylabel('Microchip Test 2')\n",
        "\n",
        "# Specified in plot order\n",
        "pyplot.legend(['y = 1', 'y = 0'], loc='upper right')\n",
        "pass"
      ]
    },
    {
      "cell_type": "markdown",
      "metadata": {
        "id": "ypszZv1LLiMD"
      },
      "source": [
        "The above figure shows that our dataset cannot be separated into positive and negative examples by a straight-line through the plot. Therefore, a straight-forward application of logistic regression will not perform well on this dataset since logistic regression will only be able to find a linear decision boundary.\n",
        "\n",
        "### 2.2 Feature mapping\n",
        "\n",
        "One way to fit the data better is to create more features from each data point. In the function `mapFeature` defined bellow, we will map the features into all polynomial terms of $x_1$ and $x_2$ up to the sixth power.\n",
        "\n",
        "$$ \\text{mapFeature}(x) = \\begin{bmatrix} 1 & x_1 & x_2 & x_1^2 & x_1 x_2 & x_2^2 & x_1^3 & \\dots & x_1 x_2^5 & x_2^6 \\end{bmatrix}^T $$\n",
        "\n",
        "As a result of this mapping, our vector of two features (the scores on two QA tests) has been transformed into a 28-dimensional vector. A logistic regression classifier trained on this higher-dimension feature vector will have a more complex decision boundary and will appear nonlinear when drawn in our 2-dimensional plot.\n",
        "While the feature mapping allows us to build a more expressive classifier, it also more susceptible to overfitting. In the next parts of the exercise, you will implement regularized logistic regression to fit the data and also see for yourself how regularization can help combat the overfitting problem.\n"
      ]
    },
    {
      "cell_type": "code",
      "execution_count": null,
      "metadata": {
        "id": "yujFwUFHLiMD"
      },
      "outputs": [],
      "source": [
        "def mapFeature(X1, X2, degree=6):\n",
        "    \"\"\"\n",
        "    Maps the two input features to quadratic features used in the regularization exercise.\n",
        "\n",
        "    Returns a new feature array with more features, comprising of\n",
        "    X1, X2, X1.^2, X2.^2, X1*X2, X1*X2.^2, etc..\n",
        "\n",
        "    Parameters\n",
        "    ----------\n",
        "    X1 : array_like\n",
        "        A vector of shape (m, 1), containing one feature for all examples.\n",
        "\n",
        "    X2 : array_like\n",
        "        A vector of shape (m, 1), containing a second feature for all examples.\n",
        "        Inputs X1, X2 must be the same size.\n",
        "\n",
        "    degree: int, optional\n",
        "        The polynomial degree.\n",
        "\n",
        "    Returns\n",
        "    -------\n",
        "    : array_like\n",
        "        A matrix of of m rows, and columns depend on the degree of polynomial.\n",
        "    \"\"\"\n",
        "    if X1.ndim > 0:\n",
        "        out = [np.ones(X1.shape[0])]\n",
        "    else:\n",
        "        out = [np.ones(1)]\n",
        "\n",
        "    for i in range(1, degree + 1):\n",
        "        for j in range(i + 1):\n",
        "            out.append((X1 ** (i - j)) * (X2 ** j))\n",
        "\n",
        "    if X1.ndim > 0:\n",
        "        return np.stack(out, axis=1)\n",
        "    else:\n",
        "        return np.array(out)"
      ]
    },
    {
      "cell_type": "markdown",
      "metadata": {
        "id": "zcLAuWEKLiMD"
      },
      "source": [
        "Let's call the mapFeature (be aware that the default degree is 6 so, all the combination up to 6 degree will be generated)."
      ]
    },
    {
      "cell_type": "code",
      "execution_count": null,
      "metadata": {
        "id": "IHz6p6ITLiMD"
      },
      "outputs": [],
      "source": [
        "# Note that mapFeature also adds a column of ones for us, so the intercept\n",
        "# term is handled\n",
        "X = mapFeature(X[:, 0], X[:, 1])"
      ]
    },
    {
      "cell_type": "markdown",
      "metadata": {
        "id": "UZyNDICwLiME"
      },
      "source": [
        "<a id=\"section5\"></a>\n",
        "### 2.3 Cost function and gradient\n",
        "\n",
        "Now you will implement code to compute the cost function and gradient for regularized logistic regression. Complete the code for the function `costFunctionReg` below to return the cost and gradient.\n",
        "\n",
        "Recall that the regularized cost function in logistic regression is\n",
        "\n",
        "$$ J(\\theta) = \\frac{1}{m} \\sum_{i=1}^m \\left[ -y^{(i)}\\log \\left( h_\\theta \\left(x^{(i)} \\right) \\right) - \\left( 1 - y^{(i)} \\right) \\log \\left( 1 - h_\\theta \\left( x^{(i)} \\right) \\right) \\right] + \\frac{\\lambda}{2m} \\sum_{j=1}^n \\theta_j^2 $$\n",
        "\n",
        "Note that you should not regularize the parameters $\\theta_0$. The gradient of the cost function is a vector where the $j^{th}$ element is defined as follows:\n",
        "\n",
        "$$ \\frac{\\partial J(\\theta)}{\\partial \\theta_0} = \\frac{1}{m} \\sum_{i=1}^m \\left( h_\\theta \\left(x^{(i)}\\right) - y^{(i)} \\right) x_j^{(i)} \\qquad \\text{for } j =0 $$\n",
        "\n",
        "$$ \\frac{\\partial J(\\theta)}{\\partial \\theta_j} = \\left( \\frac{1}{m} \\sum_{i=1}^m \\left( h_\\theta \\left(x^{(i)}\\right) - y^{(i)} \\right) x_j^{(i)} \\right) + \\frac{\\lambda}{m}\\theta_j \\qquad \\text{for } j \\ge 1 $$\n",
        "<a id=\"costFunctionReg\"></a>"
      ]
    },
    {
      "cell_type": "code",
      "execution_count": null,
      "metadata": {
        "id": "HpUFTIr5LiME"
      },
      "outputs": [],
      "source": [
        "def costFunctionReg(theta, X, y, lambda_):\n",
        "    \"\"\"\n",
        "    Compute cost and gradient for logistic regression with regularization.\n",
        "\n",
        "    Parameters\n",
        "    ----------\n",
        "    theta : array_like\n",
        "        Logistic regression parameters. A vector with shape (n, ). n is\n",
        "        the number of features including any intercept. If we have mapped\n",
        "        our initial features into polynomial features, then n is the total\n",
        "        number of polynomial features.\n",
        "\n",
        "    X : array_like\n",
        "        The data set with shape (m x n). m is the number of examples, and\n",
        "        n is the number of features (after feature mapping).\n",
        "\n",
        "    y : array_like\n",
        "        The data labels. A vector with shape (m, ).\n",
        "\n",
        "    lambda_ : float\n",
        "        The regularization parameter.\n",
        "\n",
        "    Returns\n",
        "    -------\n",
        "    J : float\n",
        "        The computed value for the regularized cost function.\n",
        "\n",
        "    grad : array_like\n",
        "        A vector of shape (n, ) which is the gradient of the cost\n",
        "        function with respect to theta, at the current values of theta.\n",
        "\n",
        "    Instructions\n",
        "    ------------\n",
        "    Compute the cost `J` of a particular choice of theta.\n",
        "    Compute the partial derivatives and set `grad` to the partial\n",
        "    derivatives of the cost w.r.t. each parameter in theta.\n",
        "    \"\"\"\n",
        "    # Initialize some useful values\n",
        "    m = y.size  # number of training examples\n",
        "\n",
        "    # You need to return the following variables correctly\n",
        "    J = 0\n",
        "    grad = np.zeros(theta.shape)\n",
        "\n",
        "    # ===================== YOUR CODE HERE ======================\n",
        "\n",
        "\n",
        "    # =============================================================\n",
        "    return J, grad"
      ]
    },
    {
      "cell_type": "markdown",
      "metadata": {
        "id": "jNPrtKsELiME"
      },
      "source": [
        "Once you are done with the `costFunctionReg`, we call it below using the initial value of $\\theta$ (initialized to all zeros), and also another test case where $\\theta$ is all ones."
      ]
    },
    {
      "cell_type": "code",
      "execution_count": null,
      "metadata": {
        "id": "P20kJRQ8LiME"
      },
      "outputs": [],
      "source": [
        "# Initialize fitting parameters\n",
        "initial_theta = np.zeros(X.shape[1])\n",
        "\n",
        "# Set regularization parameter lambda to 1\n",
        "# DO NOT use `lambda` as a variable name in python\n",
        "# because it is a python keyword\n",
        "lambda_ = 1\n",
        "\n",
        "# Compute and display initial cost and gradient for regularized logistic\n",
        "# regression\n",
        "cost, grad = costFunctionReg(initial_theta, X, y, lambda_)\n",
        "\n",
        "print('Cost at initial theta (zeros): {:.3f}'.format(cost))\n",
        "print('Expected cost (approx)       : 0.693\\n')\n",
        "\n",
        "print('Gradient at initial theta (zeros) - first five values only:')\n",
        "print('\\t[{:.4f}, {:.4f}, {:.4f}, {:.4f}, {:.4f}]'.format(*grad[:5]))\n",
        "print('Expected gradients (approx) - first five values only:')\n",
        "print('\\t[0.0085, 0.0188, 0.0001, 0.0503, 0.0115]\\n')\n",
        "\n",
        "\n",
        "# Compute and display cost and gradient\n",
        "# with all-ones theta and lambda = 10\n",
        "test_theta = np.ones(X.shape[1])\n",
        "cost, grad = costFunctionReg(test_theta, X, y, 10)\n",
        "\n",
        "print('------------------------------\\n')\n",
        "print('Cost at test theta    : {:.2f}'.format(cost))\n",
        "print('Expected cost (approx): 3.16\\n')\n",
        "\n",
        "print('Gradient at test theta - first five values only:')\n",
        "print('\\t[{:.4f}, {:.4f}, {:.4f}, {:.4f}, {:.4f}]'.format(*grad[:5]))\n",
        "print('Expected gradients (approx) - first five values only:')\n",
        "print('\\t[0.3460, 0.1614, 0.1948, 0.2269, 0.0922]')"
      ]
    },
    {
      "cell_type": "markdown",
      "metadata": {
        "id": "uieM8sd1LiME"
      },
      "source": [
        "#### 2.3.1 Learning parameters using `scipy.optimize.minimize`\n",
        "\n",
        "Similar to the previous parts, you will use `optimize.minimize` to learn the optimal parameters $\\theta$. If you have completed the cost and gradient for regularized logistic regression (`costFunctionReg`) correctly, you should be able to step through the next part of to learn the parameters $\\theta$ using `optimize.minimize`."
      ]
    },
    {
      "cell_type": "markdown",
      "metadata": {
        "id": "fEyDOrjXLiME"
      },
      "source": [
        "### 2.4 Plotting the decision boundary\n",
        "\n",
        "To help you visualize the model learned by this classifier, we have provided the function `plotDecisionBoundary` which plots the (non-linear) decision boundary that separates the positive and negative examples. In `plotDecisionBoundary`, we plot the non-linear decision boundary by computing the classifier’s predictions on an evenly spaced grid and then and draw a contour plot where the predictions change from y = 0 to y = 1."
      ]
    },
    {
      "cell_type": "markdown",
      "metadata": {
        "id": "MAFLGuOmLiME"
      },
      "source": [
        "### 2.5 Optional (ungraded) exercises\n",
        "\n",
        "In this part of the exercise, you will get to try out different regularization parameters for the dataset to understand how regularization prevents overfitting.\n",
        "\n",
        "Notice the changes in the decision boundary as you vary $\\lambda$. With a small\n",
        "$\\lambda$, you should find that the classifier gets almost every training example correct, but draws a very complicated boundary, thus overfitting the data. See the following figures for the decision boundaries you should get for different values of $\\lambda$.\n",
        "\n",
        "No regularization (overfitting)\n",
        "\n",
        "![decision_boundary3.png](data:image/png;base64,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)\n",
        "        \n",
        "Decision boundary with regularization\n",
        "\n",
        "![decision_boundary2.png](data:image/png;base64,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)\n",
        "        \n",
        "Decision boundary with too much regularization\n",
        "\n",
        "![decision_boundary5.png](data:image/png;base64,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)\n",
        "\n",
        "This is not a good decision boundary: for example, it predicts that a point at $x = (−0.25, 1.5)$ is accepted $(y = 1)$, which seems to be an incorrect decision given the training set.\n",
        "With a larger $\\lambda$, you should see a plot that shows an simpler decision boundary which still separates the positives and negatives fairly well. However, if $\\lambda$ is set to too high a value, you will not get a good fit and the decision boundary will not follow the data so well, thus underfitting the data."
      ]
    },
    {
      "cell_type": "code",
      "execution_count": null,
      "metadata": {
        "id": "XsuL8kUeLiMF"
      },
      "outputs": [],
      "source": [
        "# Initialize fitting parameters\n",
        "initial_theta = np.zeros(X.shape[1])\n",
        "\n",
        "# Set regularization parameter lambda to 1 (you should vary this)\n",
        "lambda_ = 1\n",
        "\n",
        "# set options for optimize.minimize\n",
        "options= {'maxfun': 100}\n",
        "\n",
        "res = optimize.minimize(costFunctionReg,\n",
        "                        initial_theta,\n",
        "                        (X, y, lambda_),\n",
        "                        jac=True,\n",
        "                        method='TNC',\n",
        "                        options=options)\n",
        "\n",
        "# the fun property of OptimizeResult object returns\n",
        "# the value of costFunction at optimized theta\n",
        "cost = res.fun\n",
        "\n",
        "# the optimized theta is in the x property of the result\n",
        "theta = res.x\n",
        "\n",
        "plotDecisionBoundary(plotData, theta, X, y)\n",
        "pyplot.xlabel('Microchip Test 1')\n",
        "pyplot.ylabel('Microchip Test 2')\n",
        "pyplot.legend(['y = 1', 'y = 0'])\n",
        "pyplot.grid(False)\n",
        "pyplot.title('lambda = %0.2f' % lambda_)\n",
        "\n",
        "# Compute accuracy on our training set\n",
        "p = predict(theta, X)\n",
        "\n",
        "print('Train Accuracy: %.1f %%' % (np.mean(p == y) * 100))\n",
        "print('Expected accuracy (with lambda = 1): 83.1 % (approx)\\n')\n"
      ]
    }
  ],
  "metadata": {
    "kernelspec": {
      "display_name": "Python 3",
      "language": "python",
      "name": "python3"
    },
    "language_info": {
      "codemirror_mode": {
        "name": "ipython",
        "version": 3
      },
      "file_extension": ".py",
      "mimetype": "text/x-python",
      "name": "python",
      "nbconvert_exporter": "python",
      "pygments_lexer": "ipython3",
      "version": "3.9.5"
    },
    "colab": {
      "provenance": []
    }
  },
  "nbformat": 4,
  "nbformat_minor": 0
}