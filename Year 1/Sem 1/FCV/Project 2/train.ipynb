{
 "cells": [
  {
   "cell_type": "code",
   "execution_count": null,
   "metadata": {
    "vscode": {
     "languageId": "plaintext"
    }
   },
   "outputs": [],
   "source": [
    "from ultralytics import YOLO\n",
    "\n",
    "# Create a new YOLO model from scratch\n",
    "# model = YOLO(\"yolo11n.yaml\")\n",
    "\n",
    "# Load a pretrained YOLO model (recommended for training)\n",
    "model = YOLO(\"yolo11n.pt\")\n",
    "\n",
    "# Train the model using the 'config.yaml' dataset for 3 epochs\n",
    "results_train = model.train(data=\"config.yaml\", epochs=100)\n",
    "\n",
    "# Evaluate the model's performance on the validation set\n",
    "results_val = model.val()\n",
    "\n",
    "# Perform object detection on an image using the model\n",
    "results_test = model.val(data=\"config.yaml\", split='test')  # Explicitly use the test split\n",
    "\n",
    "# Export the model to ONNX format\n",
    "success = model.export(format=\"onnx\")"
   ]
  },
  {
   "cell_type": "code",
   "execution_count": null,
   "metadata": {
    "vscode": {
     "languageId": "plaintext"
    }
   },
   "outputs": [],
   "source": [
    "print(\"Validation Metrics:\", results_val)\n",
    "print(\"Test Metrics:\", results_test)"
   ]
  }
 ],
 "metadata": {
  "language_info": {
   "name": "python"
  }
 },
 "nbformat": 4,
 "nbformat_minor": 2
}
